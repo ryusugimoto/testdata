{
 "cells": [
  {
   "cell_type": "code",
   "execution_count": 31,
   "metadata": {
    "ExecuteTime": {
     "end_time": "2018-08-22T01:52:18.157715Z",
     "start_time": "2018-08-22T01:52:16.538890Z"
    }
   },
   "outputs": [],
   "source": [
    "import numpy as np\n",
    "import pandas as pd\n",
    "\n",
    "import matplotlib.pyplot as plt\n",
    "import seaborn as sns"
   ]
  },
  {
   "cell_type": "markdown",
   "metadata": {},
   "source": [
    "   # データ読み込み"
   ]
  },
  {
   "cell_type": "markdown",
   "metadata": {},
   "source": [
    "## csvファイルから読み込み"
   ]
  },
  {
   "cell_type": "code",
   "execution_count": 3,
   "metadata": {
    "ExecuteTime": {
     "end_time": "2018-08-22T01:07:10.129325Z",
     "start_time": "2018-08-22T01:07:10.084834Z"
    }
   },
   "outputs": [],
   "source": [
    "Group = pd.read_csv('FIFA 2018 Statistics.csv')"
   ]
  },
  {
   "cell_type": "markdown",
   "metadata": {},
   "source": [
    "## Gruop Stageのみを抽出"
   ]
  },
  {
   "cell_type": "code",
   "execution_count": 23,
   "metadata": {
    "ExecuteTime": {
     "end_time": "2018-08-22T01:44:11.415845Z",
     "start_time": "2018-08-22T01:44:11.409863Z"
    }
   },
   "outputs": [],
   "source": [
    "gs = Group.loc[Group['Round'] == 'Group Stage']"
   ]
  },
  {
   "cell_type": "markdown",
   "metadata": {},
   "source": [
    "## 不要なカラムの削除"
   ]
  },
  {
   "cell_type": "markdown",
   "metadata": {},
   "source": [
    "ここではDate, Opponent, Round, Goal Scored, PSO, Goals in PSOを削除"
   ]
  },
  {
   "cell_type": "code",
   "execution_count": 28,
   "metadata": {
    "ExecuteTime": {
     "end_time": "2018-08-22T01:47:42.167727Z",
     "start_time": "2018-08-22T01:47:42.093792Z"
    }
   },
   "outputs": [
    {
     "name": "stderr",
     "output_type": "stream",
     "text": [
      "C:\\Users\\yuta_fukai\\Anaconda3\\lib\\site-packages\\ipykernel_launcher.py:1: SettingWithCopyWarning: \n",
      "A value is trying to be set on a copy of a slice from a DataFrame\n",
      "\n",
      "See the caveats in the documentation: http://pandas.pydata.org/pandas-docs/stable/indexing.html#indexing-view-versus-copy\n",
      "  \"\"\"Entry point for launching an IPython kernel.\n"
     ]
    }
   ],
   "source": [
    "gs.drop(columns={'Date', 'Round','PSO', 'Goals in PSO'},inplace=True)\n",
    "# 'Opponent','Goal Scored', "
   ]
  },
  {
   "cell_type": "markdown",
   "metadata": {},
   "source": [
    "## Gruopごとに国を抽出"
   ]
  },
  {
   "cell_type": "code",
   "execution_count": 29,
   "metadata": {
    "ExecuteTime": {
     "end_time": "2018-08-22T01:47:43.342402Z",
     "start_time": "2018-08-22T01:47:43.291540Z"
    }
   },
   "outputs": [],
   "source": [
    "ga = gs.loc[(gs['Team'] == 'Russia') | (gs['Team'] == 'Saudi Arabia') | (\n",
    "    gs['Team'] == 'Egypt') | (gs['Team'] == 'Uruguay')]\n",
    "gb = gs.loc[(gs['Team'] == 'Morocco') | (gs['Team'] == 'Iran') | (\n",
    "    gs['Team'] == 'Portugal') | (gs['Team'] == 'Spain')]\n",
    "gc = gs.loc[(gs['Team'] == 'France') | (gs['Team'] == 'Australia') | (\n",
    "    gs['Team'] == 'Peru') | (gs['Team'] == 'Denmark')]\n",
    "gd = gs.loc[(gs['Team'] == 'Argentina') | (gs['Team'] == 'Iceland') | (\n",
    "    gs['Team'] == 'Croatia') | (gs['Team'] == 'Nigeria')]\n",
    "ge = gs.loc[(gs['Team'] == 'Cost a Rica') | (gs['Team'] == 'Serbia') | (\n",
    "    gs['Team'] == 'Brazil') | (gs['Team'] == 'Switzerland')]\n",
    "gf = gs.loc[(gs['Team'] == 'Germany') | (gs['Team'] == 'Mexico') | (\n",
    "    gs['Team'] == 'Sweden') | (gs['Team'] == 'Korea Republic')]\n",
    "gg = gs.loc[(gs['Team'] == 'Belgium') | (gs['Team'] == 'Panama') | (\n",
    "    gs['Team'] == 'Tunisia') | (gs['Team'] == 'England')]\n",
    "gh = gs.loc[(gs['Team'] == 'Colombia') | (gs['Team'] == 'Japan') | (\n",
    "    gs['Team'] == 'Poland') | (gs['Team'] == 'Senegal')]"
   ]
  },
  {
   "cell_type": "code",
   "execution_count": 39,
   "metadata": {
    "ExecuteTime": {
     "end_time": "2018-08-22T01:56:12.733654Z",
     "start_time": "2018-08-22T01:56:12.716738Z"
    }
   },
   "outputs": [],
   "source": [
    "f = gf.groupby('Team').mean().round(3)\n",
    "f.reset_index(inplace=True)"
   ]
  },
  {
   "cell_type": "code",
   "execution_count": 54,
   "metadata": {
    "ExecuteTime": {
     "end_time": "2018-08-22T02:28:39.597624Z",
     "start_time": "2018-08-22T02:28:39.581665Z"
    }
   },
   "outputs": [
    {
     "data": {
      "text/html": [
       "<div>\n",
       "<style scoped>\n",
       "    .dataframe tbody tr th:only-of-type {\n",
       "        vertical-align: middle;\n",
       "    }\n",
       "\n",
       "    .dataframe tbody tr th {\n",
       "        vertical-align: top;\n",
       "    }\n",
       "\n",
       "    .dataframe thead th {\n",
       "        text-align: right;\n",
       "    }\n",
       "</style>\n",
       "<table border=\"1\" class=\"dataframe\">\n",
       "  <thead>\n",
       "    <tr style=\"text-align: right;\">\n",
       "      <th></th>\n",
       "      <th>Team</th>\n",
       "      <th>Opponent</th>\n",
       "      <th>Goal Scored</th>\n",
       "      <th>Ball Possession %</th>\n",
       "    </tr>\n",
       "  </thead>\n",
       "  <tbody>\n",
       "    <tr>\n",
       "      <th>18</th>\n",
       "      <td>Germany</td>\n",
       "      <td>Mexico</td>\n",
       "      <td>0</td>\n",
       "      <td>60</td>\n",
       "    </tr>\n",
       "    <tr>\n",
       "      <th>19</th>\n",
       "      <td>Mexico</td>\n",
       "      <td>Germany</td>\n",
       "      <td>1</td>\n",
       "      <td>40</td>\n",
       "    </tr>\n",
       "    <tr>\n",
       "      <th>22</th>\n",
       "      <td>Sweden</td>\n",
       "      <td>Korea Republic</td>\n",
       "      <td>1</td>\n",
       "      <td>52</td>\n",
       "    </tr>\n",
       "    <tr>\n",
       "      <th>23</th>\n",
       "      <td>Korea Republic</td>\n",
       "      <td>Sweden</td>\n",
       "      <td>0</td>\n",
       "      <td>48</td>\n",
       "    </tr>\n",
       "    <tr>\n",
       "      <th>54</th>\n",
       "      <td>Korea Republic</td>\n",
       "      <td>Mexico</td>\n",
       "      <td>1</td>\n",
       "      <td>41</td>\n",
       "    </tr>\n",
       "    <tr>\n",
       "      <th>55</th>\n",
       "      <td>Mexico</td>\n",
       "      <td>Korea Republic</td>\n",
       "      <td>2</td>\n",
       "      <td>59</td>\n",
       "    </tr>\n",
       "    <tr>\n",
       "      <th>56</th>\n",
       "      <td>Germany</td>\n",
       "      <td>Sweden</td>\n",
       "      <td>2</td>\n",
       "      <td>71</td>\n",
       "    </tr>\n",
       "    <tr>\n",
       "      <th>57</th>\n",
       "      <td>Sweden</td>\n",
       "      <td>Germany</td>\n",
       "      <td>1</td>\n",
       "      <td>29</td>\n",
       "    </tr>\n",
       "    <tr>\n",
       "      <th>80</th>\n",
       "      <td>Korea Republic</td>\n",
       "      <td>Germany</td>\n",
       "      <td>2</td>\n",
       "      <td>30</td>\n",
       "    </tr>\n",
       "    <tr>\n",
       "      <th>81</th>\n",
       "      <td>Germany</td>\n",
       "      <td>Korea Republic</td>\n",
       "      <td>0</td>\n",
       "      <td>70</td>\n",
       "    </tr>\n",
       "    <tr>\n",
       "      <th>82</th>\n",
       "      <td>Mexico</td>\n",
       "      <td>Sweden</td>\n",
       "      <td>0</td>\n",
       "      <td>65</td>\n",
       "    </tr>\n",
       "    <tr>\n",
       "      <th>83</th>\n",
       "      <td>Sweden</td>\n",
       "      <td>Mexico</td>\n",
       "      <td>3</td>\n",
       "      <td>35</td>\n",
       "    </tr>\n",
       "  </tbody>\n",
       "</table>\n",
       "</div>"
      ],
      "text/plain": [
       "              Team        Opponent  Goal Scored  Ball Possession %\n",
       "18         Germany          Mexico            0                 60\n",
       "19          Mexico         Germany            1                 40\n",
       "22          Sweden  Korea Republic            1                 52\n",
       "23  Korea Republic          Sweden            0                 48\n",
       "54  Korea Republic          Mexico            1                 41\n",
       "55          Mexico  Korea Republic            2                 59\n",
       "56         Germany          Sweden            2                 71\n",
       "57          Sweden         Germany            1                 29\n",
       "80  Korea Republic         Germany            2                 30\n",
       "81         Germany  Korea Republic            0                 70\n",
       "82          Mexico          Sweden            0                 65\n",
       "83          Sweden          Mexico            3                 35"
      ]
     },
     "execution_count": 54,
     "metadata": {},
     "output_type": "execute_result"
    }
   ],
   "source": [
    "gf[['Team','Opponent','Goal Scored','Ball Possession %']]"
   ]
  },
  {
   "cell_type": "code",
   "execution_count": 52,
   "metadata": {
    "ExecuteTime": {
     "end_time": "2018-08-22T02:05:32.483684Z",
     "start_time": "2018-08-22T02:05:30.779886Z"
    }
   },
   "outputs": [
    {
     "data": {
      "text/plain": [
       "<seaborn.axisgrid.PairGrid at 0x20876995630>"
      ]
     },
     "execution_count": 52,
     "metadata": {},
     "output_type": "execute_result"
    },
    {
     "data": {
      "image/png": "[encoded data removed]",
      "text/plain": [
       "<matplotlib.figure.Figure at 0x20808ce1eb8>"
      ]
     },
     "metadata": {},
     "output_type": "display_data"
    }
   ],
   "source": [
    "f_pass = f.loc[:, ['Team', 'Ball Possession %', 'Attempts','Pass Accuracy %', 'Passes']]\n",
    "sns.pairplot(f_pass, hue='Team')"
   ]
  }
 ],
 "metadata": {
  "kernelspec": {
   "display_name": "Python 3",
   "language": "python",
   "name": "python3"
  },
  "language_info": {
   "codemirror_mode": {
    "name": "ipython",
    "version": 3
   },
   "file_extension": ".py",
   "mimetype": "text/x-python",
   "name": "python",
   "nbconvert_exporter": "python",
   "pygments_lexer": "ipython3",
   "version": "3.6.4"
  },
  "toc": {
   "base_numbering": 1,
   "nav_menu": {},
   "number_sections": true,
   "sideBar": true,
   "skip_h1_title": false,
   "title_cell": "Table of Contents",
   "title_sidebar": "Contents",
   "toc_cell": false,
   "toc_position": {},
   "toc_section_display": true,
   "toc_window_display": false
  }
 },
 "nbformat": 4,
 "nbformat_minor": 2
}
