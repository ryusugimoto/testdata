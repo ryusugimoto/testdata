{
 "cells": [
  {
   "cell_type": "code",
   "execution_count": 18,
   "metadata": {
    "ExecuteTime": {
     "end_time": "2018-08-21T09:28:25.651964Z",
     "start_time": "2018-08-21T09:28:25.134526Z"
    }
   },
   "outputs": [],
   "source": [
    "import numpy as np\n",
    "import pandas as pd\n",
    "\n",
    "import matplotlib.pyplot as plt"
   ]
  },
  {
   "cell_type": "markdown",
   "metadata": {},
   "source": [
    "   # データ読み込み"
   ]
  },
  {
   "cell_type": "markdown",
   "metadata": {},
   "source": [
    "## csvファイルから読み込み"
   ]
  },
  {
   "cell_type": "code",
   "execution_count": 4,
   "metadata": {
    "ExecuteTime": {
     "end_time": "2018-08-21T08:34:47.330803Z",
     "start_time": "2018-08-21T08:34:47.321833Z"
    }
   },
   "outputs": [],
   "source": [
    "Group = pd.read_csv('FIFA 2018 Statistics.csv')"
   ]
  },
  {
   "cell_type": "markdown",
   "metadata": {},
   "source": [
    "## Gruop Stageのみを抽出"
   ]
  },
  {
   "cell_type": "code",
   "execution_count": 15,
   "metadata": {
    "ExecuteTime": {
     "end_time": "2018-08-21T09:25:15.343258Z",
     "start_time": "2018-08-21T09:25:15.337273Z"
    }
   },
   "outputs": [],
   "source": [
    "gs = Group.loc[Group['Round'] == 'Group Stage']"
   ]
  },
  {
   "cell_type": "markdown",
   "metadata": {},
   "source": [
    "## GruopFのみを抽出"
   ]
  },
  {
   "cell_type": "code",
   "execution_count": 16,
   "metadata": {
    "ExecuteTime": {
     "end_time": "2018-08-21T09:25:43.654499Z",
     "start_time": "2018-08-21T09:25:43.644525Z"
    }
   },
   "outputs": [],
   "source": [
    "groupf = gs.loc[(gs['Team'] == 'Germany') | (gs['Team'] == 'Mexico') | (\n",
    "    gs['Team'] == 'Sweden') | (gs['Team'] == 'Korea Republic')]"
   ]
  },
  {
   "cell_type": "code",
   "execution_count": 19,
   "metadata": {
    "ExecuteTime": {
     "end_time": "2018-08-21T09:31:25.418151Z",
     "start_time": "2018-08-21T09:31:25.375269Z"
    }
   },
   "outputs": [
    {
     "data": {
      "text/html": [
       "<div>\n",
       "<style scoped>\n",
       "    .dataframe tbody tr th:only-of-type {\n",
       "        vertical-align: middle;\n",
       "    }\n",
       "\n",
       "    .dataframe tbody tr th {\n",
       "        vertical-align: top;\n",
       "    }\n",
       "\n",
       "    .dataframe thead th {\n",
       "        text-align: right;\n",
       "    }\n",
       "</style>\n",
       "<table border=\"1\" class=\"dataframe\">\n",
       "  <thead>\n",
       "    <tr style=\"text-align: right;\">\n",
       "      <th></th>\n",
       "      <th>Goal Scored</th>\n",
       "      <th>Ball Possession %</th>\n",
       "      <th>Attempts</th>\n",
       "      <th>On-Target</th>\n",
       "      <th>Off-Target</th>\n",
       "      <th>Blocked</th>\n",
       "      <th>Corners</th>\n",
       "      <th>Offsides</th>\n",
       "      <th>Free Kicks</th>\n",
       "      <th>Saves</th>\n",
       "      <th>...</th>\n",
       "      <th>Passes</th>\n",
       "      <th>Distance Covered (Kms)</th>\n",
       "      <th>Fouls Committed</th>\n",
       "      <th>Yellow Card</th>\n",
       "      <th>Yellow &amp; Red</th>\n",
       "      <th>Red</th>\n",
       "      <th>1st Goal</th>\n",
       "      <th>Goals in PSO</th>\n",
       "      <th>Own goals</th>\n",
       "      <th>Own goal Time</th>\n",
       "    </tr>\n",
       "    <tr>\n",
       "      <th>Team</th>\n",
       "      <th></th>\n",
       "      <th></th>\n",
       "      <th></th>\n",
       "      <th></th>\n",
       "      <th></th>\n",
       "      <th></th>\n",
       "      <th></th>\n",
       "      <th></th>\n",
       "      <th></th>\n",
       "      <th></th>\n",
       "      <th></th>\n",
       "      <th></th>\n",
       "      <th></th>\n",
       "      <th></th>\n",
       "      <th></th>\n",
       "      <th></th>\n",
       "      <th></th>\n",
       "      <th></th>\n",
       "      <th></th>\n",
       "      <th></th>\n",
       "      <th></th>\n",
       "    </tr>\n",
       "  </thead>\n",
       "  <tbody>\n",
       "    <tr>\n",
       "      <th>Germany</th>\n",
       "      <td>2</td>\n",
       "      <td>201</td>\n",
       "      <td>67</td>\n",
       "      <td>20</td>\n",
       "      <td>24</td>\n",
       "      <td>23</td>\n",
       "      <td>25</td>\n",
       "      <td>7</td>\n",
       "      <td>48</td>\n",
       "      <td>11</td>\n",
       "      <td>...</td>\n",
       "      <td>2013</td>\n",
       "      <td>336</td>\n",
       "      <td>29</td>\n",
       "      <td>2</td>\n",
       "      <td>1</td>\n",
       "      <td>0</td>\n",
       "      <td>48.0</td>\n",
       "      <td>0</td>\n",
       "      <td>0.0</td>\n",
       "      <td>0.0</td>\n",
       "    </tr>\n",
       "    <tr>\n",
       "      <th>Korea Republic</th>\n",
       "      <td>3</td>\n",
       "      <td>119</td>\n",
       "      <td>33</td>\n",
       "      <td>11</td>\n",
       "      <td>9</td>\n",
       "      <td>13</td>\n",
       "      <td>15</td>\n",
       "      <td>0</td>\n",
       "      <td>36</td>\n",
       "      <td>13</td>\n",
       "      <td>...</td>\n",
       "      <td>934</td>\n",
       "      <td>320</td>\n",
       "      <td>63</td>\n",
       "      <td>10</td>\n",
       "      <td>0</td>\n",
       "      <td>0</td>\n",
       "      <td>180.0</td>\n",
       "      <td>0</td>\n",
       "      <td>0.0</td>\n",
       "      <td>0.0</td>\n",
       "    </tr>\n",
       "    <tr>\n",
       "      <th>Mexico</th>\n",
       "      <td>3</td>\n",
       "      <td>164</td>\n",
       "      <td>44</td>\n",
       "      <td>12</td>\n",
       "      <td>20</td>\n",
       "      <td>12</td>\n",
       "      <td>13</td>\n",
       "      <td>4</td>\n",
       "      <td>46</td>\n",
       "      <td>17</td>\n",
       "      <td>...</td>\n",
       "      <td>1253</td>\n",
       "      <td>298</td>\n",
       "      <td>36</td>\n",
       "      <td>5</td>\n",
       "      <td>0</td>\n",
       "      <td>0</td>\n",
       "      <td>61.0</td>\n",
       "      <td>0</td>\n",
       "      <td>1.0</td>\n",
       "      <td>74.0</td>\n",
       "    </tr>\n",
       "    <tr>\n",
       "      <th>Sweden</th>\n",
       "      <td>5</td>\n",
       "      <td>116</td>\n",
       "      <td>36</td>\n",
       "      <td>15</td>\n",
       "      <td>13</td>\n",
       "      <td>8</td>\n",
       "      <td>12</td>\n",
       "      <td>3</td>\n",
       "      <td>56</td>\n",
       "      <td>7</td>\n",
       "      <td>...</td>\n",
       "      <td>842</td>\n",
       "      <td>314</td>\n",
       "      <td>44</td>\n",
       "      <td>5</td>\n",
       "      <td>0</td>\n",
       "      <td>0</td>\n",
       "      <td>147.0</td>\n",
       "      <td>0</td>\n",
       "      <td>0.0</td>\n",
       "      <td>0.0</td>\n",
       "    </tr>\n",
       "  </tbody>\n",
       "</table>\n",
       "<p>4 rows × 21 columns</p>\n",
       "</div>"
      ],
      "text/plain": [
       "                Goal Scored  Ball Possession %  Attempts  On-Target  \\\n",
       "Team                                                                  \n",
       "Germany                   2                201        67         20   \n",
       "Korea Republic            3                119        33         11   \n",
       "Mexico                    3                164        44         12   \n",
       "Sweden                    5                116        36         15   \n",
       "\n",
       "                Off-Target  Blocked  Corners  Offsides  Free Kicks  Saves  \\\n",
       "Team                                                                        \n",
       "Germany                 24       23       25         7          48     11   \n",
       "Korea Republic           9       13       15         0          36     13   \n",
       "Mexico                  20       12       13         4          46     17   \n",
       "Sweden                  13        8       12         3          56      7   \n",
       "\n",
       "                    ...        Passes  Distance Covered (Kms)  \\\n",
       "Team                ...                                         \n",
       "Germany             ...          2013                     336   \n",
       "Korea Republic      ...           934                     320   \n",
       "Mexico              ...          1253                     298   \n",
       "Sweden              ...           842                     314   \n",
       "\n",
       "                Fouls Committed  Yellow Card  Yellow & Red  Red  1st Goal  \\\n",
       "Team                                                                        \n",
       "Germany                      29            2             1    0      48.0   \n",
       "Korea Republic               63           10             0    0     180.0   \n",
       "Mexico                       36            5             0    0      61.0   \n",
       "Sweden                       44            5             0    0     147.0   \n",
       "\n",
       "                Goals in PSO  Own goals  Own goal Time  \n",
       "Team                                                    \n",
       "Germany                    0        0.0            0.0  \n",
       "Korea Republic             0        0.0            0.0  \n",
       "Mexico                     0        1.0           74.0  \n",
       "Sweden                     0        0.0            0.0  \n",
       "\n",
       "[4 rows x 21 columns]"
      ]
     },
     "execution_count": 19,
     "metadata": {},
     "output_type": "execute_result"
    }
   ],
   "source": [
    "groupf.groupby('Team').sum()"
   ]
  }
 ],
 "metadata": {
  "kernelspec": {
   "display_name": "Python 3",
   "language": "python",
   "name": "python3"
  },
  "language_info": {
   "codemirror_mode": {
    "name": "ipython",
    "version": 3
   },
   "file_extension": ".py",
   "mimetype": "text/x-python",
   "name": "python",
   "nbconvert_exporter": "python",
   "pygments_lexer": "ipython3",
   "version": "3.6.4"
  },
  "toc": {
   "base_numbering": 1,
   "nav_menu": {},
   "number_sections": true,
   "sideBar": true,
   "skip_h1_title": false,
   "title_cell": "Table of Contents",
   "title_sidebar": "Contents",
   "toc_cell": false,
   "toc_position": {},
   "toc_section_display": true,
   "toc_window_display": false
  }
 },
 "nbformat": 4,
 "nbformat_minor": 2
}
